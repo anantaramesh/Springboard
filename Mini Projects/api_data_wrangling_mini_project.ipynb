{
 "cells": [
  {
   "cell_type": "markdown",
   "metadata": {},
   "source": [
    "This exercise will require you to pull some data from the Qunadl API. Qaundl is currently the most widely used aggregator of financial market data."
   ]
  },
  {
   "cell_type": "markdown",
   "metadata": {},
   "source": [
    "As a first step, you will need to register a free account on the http://www.quandl.com website."
   ]
  },
  {
   "cell_type": "markdown",
   "metadata": {},
   "source": [
    "After you register, you will be provided with a unique API key, that you should store:"
   ]
  },
  {
   "cell_type": "code",
   "execution_count": 1,
   "metadata": {},
   "outputs": [],
   "source": [
    "# Store the API key as a string - according to PEP8, constants are always named in all upper case\n",
    "API_KEY = ''"
   ]
  },
  {
   "cell_type": "markdown",
   "metadata": {},
   "source": [
    "Qaundl has a large number of data sources, but, unfortunately, most of them require a Premium subscription. Still, there are also a good number of free datasets."
   ]
  },
  {
   "cell_type": "markdown",
   "metadata": {},
   "source": [
    "For this mini project, we will focus on equities data from the Frankfurt Stock Exhange (FSE), which is available for free. We'll try and analyze the stock prices of a company called Carl Zeiss Meditec, which manufactures tools for eye examinations, as well as medical lasers for laser eye surgery: https://www.zeiss.com/meditec/int/home.html. The company is listed under the stock ticker AFX_X."
   ]
  },
  {
   "cell_type": "markdown",
   "metadata": {},
   "source": [
    "You can find the detailed Quandl API instructions here: https://docs.quandl.com/docs/time-series"
   ]
  },
  {
   "cell_type": "markdown",
   "metadata": {},
   "source": [
    "While there is a dedicated Python package for connecting to the Quandl API, we would prefer that you use the *requests* package, which can be easily downloaded using *pip* or *conda*. You can find the documentation for the package here: http://docs.python-requests.org/en/master/ "
   ]
  },
  {
   "cell_type": "markdown",
   "metadata": {},
   "source": [
    "Finally, apart from the *requests* package, you are encouraged to not use any third party Python packages, such as *pandas*, and instead focus on what's available in the Python Standard Library (the *collections* module might come in handy: https://pymotw.com/3/collections/ ).\n",
    "Also, since you won't have access to DataFrames, you are encouraged to us Python's native data structures - preferably dictionaries, though some questions can also be answered using lists.\n",
    "You can read more on these data structures here: https://docs.python.org/3/tutorial/datastructures.html"
   ]
  },
  {
   "cell_type": "markdown",
   "metadata": {},
   "source": [
    "Keep in mind that the JSON responses you will be getting from the API map almost one-to-one to Python's dictionaries. Unfortunately, they can be very nested, so make sure you read up on indexing dictionaries in the documentation provided above."
   ]
  },
  {
   "cell_type": "code",
   "execution_count": 2,
   "metadata": {},
   "outputs": [],
   "source": [
    "# First, import the relevant modules\n",
    "\n",
    "import requests"
   ]
  },
  {
   "cell_type": "code",
   "execution_count": 58,
   "metadata": {},
   "outputs": [],
   "source": [
    "# Now, call the Quandl API and pull out a small sample of the data (only one day) to get a glimpse\n",
    "# into the JSON structure that will be returned\n",
    "\n",
    "url = 'https://www.quandl.com/api/v3/datasets/FSE/AFX_X.json?rows=1&api_key=xxxxxxxxx'\n",
    "r = requests.get(url)"
   ]
  },
  {
   "cell_type": "code",
   "execution_count": 57,
   "metadata": {},
   "outputs": [],
   "source": [
    "# Inspect the JSON structure of the object you created, and take note of how nested it is,\n",
    "# as well as the overall structure\n",
    "\n",
    "dat = r.json()"
   ]
  },
  {
   "cell_type": "markdown",
   "metadata": {},
   "source": [
    "These are your tasks for this mini project:\n",
    "\n",
    "1. Collect data from the Franfurt Stock Exchange, for the ticker AFX_X, for the whole year 2017 (keep in mind that the date format is YYYY-MM-DD).\n",
    "2. Convert the returned JSON object into a Python dictionary.\n",
    "3. Calculate what the highest and lowest opening prices were for the stock in this period.\n",
    "4. What was the largest change in any one day (based on High and Low price)?\n",
    "5. What was the largest change between any two days (based on Closing Price)?\n",
    "6. What was the average daily trading volume during this year?\n",
    "7. (Optional) What was the median trading volume during this year. (Note: you may need to implement your own function for calculating the median.)"
   ]
  },
  {
   "cell_type": "code",
   "execution_count": 7,
   "metadata": {},
   "outputs": [],
   "source": [
    "url = 'https://www.quandl.com/api/v3/datasets/FSE/AFX_X.json?start_date=2017-01-01&end_date=2017-12-31&api_key=4FksYa_C9u6XyW1nu6FK'\n",
    "r = requests.get(url)\n",
    "data = r.json()"
   ]
  },
  {
   "cell_type": "code",
   "execution_count": 22,
   "metadata": {},
   "outputs": [],
   "source": [
    "dict_data = dict(data)\n",
    "stocks = dict_data['dataset']['data']"
   ]
  },
  {
   "cell_type": "code",
   "execution_count": 9,
   "metadata": {},
   "outputs": [
    {
     "data": {
      "text/plain": [
       "255"
      ]
     },
     "execution_count": 9,
     "metadata": {},
     "output_type": "execute_result"
    }
   ],
   "source": [
    "len(stocks)"
   ]
  },
  {
   "cell_type": "code",
   "execution_count": 10,
   "metadata": {},
   "outputs": [
    {
     "data": {
      "text/plain": [
       "11"
      ]
     },
     "execution_count": 10,
     "metadata": {},
     "output_type": "execute_result"
    }
   ],
   "source": [
    "len(stocks[0])"
   ]
  },
  {
   "cell_type": "code",
   "execution_count": 12,
   "metadata": {},
   "outputs": [],
   "source": [
    "#Changing the 'None' opening prices to 0 so I can perform arithmetic operations on it\n",
    "\n",
    "for i in range(0, 255):\n",
    "    if stocks[i][1] is None:\n",
    "        stocks[i][1] = 0"
   ]
  },
  {
   "cell_type": "code",
   "execution_count": 23,
   "metadata": {},
   "outputs": [],
   "source": [
    "dict1 = {}\n",
    "for i in range(0, 255):\n",
    "    dict1[stocks[i][0]] = stocks[i][1:]\n",
    "    \n",
    "#where stocks[i][0] gives us the 'Date' at position 'i' and stocks[i][1:] gives us all the rest of the data values at position'i'"
   ]
  },
  {
   "cell_type": "code",
   "execution_count": 24,
   "metadata": {},
   "outputs": [],
   "source": [
    "#Creating a list of all the keys to iterate through\n",
    "\n",
    "dates = []\n",
    "for i in range(0, 255):\n",
    "    dates.append(stocks[i][0])"
   ]
  },
  {
   "cell_type": "code",
   "execution_count": 25,
   "metadata": {},
   "outputs": [
    {
     "name": "stdout",
     "output_type": "stream",
     "text": [
      "Minimum opening price = 0 on 2017-05-01, and maximum opening price = 53.11 on 2017-12-14.\n"
     ]
    }
   ],
   "source": [
    "#Task 3\n",
    "\n",
    "max_val = 0\n",
    "max_date = \"\"\n",
    "min_val = stocks[0][1]\n",
    "min_date = \"\"\n",
    "\n",
    "for i in dates:\n",
    "    if dict1[i][0] is not None:\n",
    "        if dict1[i][0] > max_val:\n",
    "            max_val = dict1[i][0]\n",
    "            max_date = i\n",
    "        if dict1[i][0] < min_val:\n",
    "            min_val = dict1[i][0]\n",
    "            min_date = i\n",
    "\n",
    "#where dict1[i][0] is the 'Open' stock price for date 'i'\n",
    "\n",
    "print(f\"Minimum opening price = {min_val} on {min_date}, and maximum opening price = {max_val} on {max_date}.\")"
   ]
  },
  {
   "cell_type": "code",
   "execution_count": 45,
   "metadata": {},
   "outputs": [
    {
     "name": "stdout",
     "output_type": "stream",
     "text": [
      "The largest change between high and low prices (on one day) was on 2017-05-11 and was 2.81.\n"
     ]
    }
   ],
   "source": [
    "#Task 4\n",
    "\n",
    "max_diff = stocks[0][2] - stocks[0][3]\n",
    "#where stocks[i][2] gives us the 'High' price at position 'i' and stocks[i][3] gives us the 'Low' price at position 'i'\n",
    "max_date = ''\n",
    "\n",
    "for i in dates:\n",
    "    if (dict1[i][1] is not None) & (dict1[i][2] is not None):\n",
    "        if dict1[i][1] - dict1[i][2] > max_diff:\n",
    "            max_diff = dict1[i][1] - dict1[i][2]\n",
    "            max_date = i\n",
    "        \n",
    "#where dict1[i][1] gives us the 'High' price at date 'i' and dict1[i][2] gives us the 'Low' price at date 'i'\n",
    "print(f\"The largest change between high and low prices (on one day) was on {max_date} and was {max_diff:.2f}.\")"
   ]
  },
  {
   "cell_type": "code",
   "execution_count": 33,
   "metadata": {},
   "outputs": [
    {
     "name": "stdout",
     "output_type": "stream",
     "text": [
      "0\n"
     ]
    }
   ],
   "source": [
    "#To check if there are any 'None' values for closing price\n",
    "\n",
    "count = 0\n",
    "listicle = []\n",
    "for i in range(0, 255):\n",
    "    if stocks[i][4] is None:\n",
    "        count+=1\n",
    "        listicle.append(i)\n",
    "\n",
    "print(count)     "
   ]
  },
  {
   "cell_type": "code",
   "execution_count": 44,
   "metadata": {},
   "outputs": [
    {
     "name": "stdout",
     "output_type": "stream",
     "text": [
      "The largest change between any two days (assuming only consecutive days are being considered) was 2.56 and the dates were 2017-08-08 2017-08-09.\n"
     ]
    }
   ],
   "source": [
    "#Task 5\n",
    "\n",
    "max_change = 0\n",
    "max_dates = ''\n",
    "\n",
    "for i in range(254, 0, -1):\n",
    "    if stocks[i][4] - stocks[i-1][4] > max_change:\n",
    "        max_change = stocks[i][4] - stocks[i-1][4]\n",
    "        max_dates = stocks[i][0] + ' ' + stocks[i-1][0]\n",
    "        \n",
    "#where stocks[i][4] gives us the 'Closing' price at position 'i' and stocks[i][0] gives us the date at position 'i'\n",
    "\n",
    "print(f\"The largest change between any two days (assuming only consecutive days are being considered) was {max_change:.2f} and the dates were {max_dates}.\")"
   ]
  },
  {
   "cell_type": "code",
   "execution_count": 50,
   "metadata": {},
   "outputs": [
    {
     "name": "stdout",
     "output_type": "stream",
     "text": [
      "0\n"
     ]
    }
   ],
   "source": [
    "#To check if there are any 'None' values for trading volumne\n",
    "\n",
    "count = 0\n",
    "listicle = []\n",
    "for i in range(0, 255):\n",
    "    if stocks[i][6] is None:\n",
    "        count+=1\n",
    "        listicle.append(i)\n",
    "\n",
    "print(count)   "
   ]
  },
  {
   "cell_type": "code",
   "execution_count": 56,
   "metadata": {},
   "outputs": [
    {
     "name": "stdout",
     "output_type": "stream",
     "text": [
      "Average trading volume over the year is 89124.34.\n"
     ]
    }
   ],
   "source": [
    "#Task 6\n",
    "total = 0\n",
    "\n",
    "for i in dates:\n",
    "    total += dict1[i][5]\n",
    "\n",
    "avg = total/255\n",
    "\n",
    "print(f\"Average trading volume over the year is {avg:.2f}.\")"
   ]
  }
 ],
 "metadata": {
  "kernelspec": {
   "display_name": "Python 3",
   "language": "python",
   "name": "python3"
  },
  "language_info": {
   "codemirror_mode": {
    "name": "ipython",
    "version": 3
   },
   "file_extension": ".py",
   "mimetype": "text/x-python",
   "name": "python",
   "nbconvert_exporter": "python",
   "pygments_lexer": "ipython3",
   "version": "3.7.4"
  }
 },
 "nbformat": 4,
 "nbformat_minor": 4
}
